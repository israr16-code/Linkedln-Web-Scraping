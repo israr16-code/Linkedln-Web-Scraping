{
 "cells": [
  {
   "cell_type": "code",
   "execution_count": 1,
   "metadata": {},
   "outputs": [
    {
     "name": "stdout",
     "output_type": "stream",
     "text": [
      "https://www.linkedin.com/jobs-guest/jobs/api/seeMoreJobPostings/search?keywords=Product%20Management&location=San%20Francisco%20Bay%20Area&geoId=90000084&trk=public_jobs_jobs-search-bar_search-submit&position=1&pageNum=0&start=0\n",
      "Data updated\n",
      "https://www.linkedin.com/jobs-guest/jobs/api/seeMoreJobPostings/search?keywords=Product%20Management&location=San%20Francisco%20Bay%20Area&geoId=90000084&trk=public_jobs_jobs-search-bar_search-submit&position=1&pageNum=0&start=50\n",
      "Data updated\n",
      "File closed\n"
     ]
    }
   ],
   "source": [
    "import csv\n",
    "import requests\n",
    "from bs4 import BeautifulSoup\n",
    "\n",
    "file = open('linkedin-jobs.csv', 'a')\n",
    "writer = csv.writer(file)\n",
    "writer.writerow(['Title', 'Company', 'Location', 'Apply'])\n",
    "\n",
    "def linkedin_scraper(webpage, page_number):\n",
    "    next_page = webpage + str(page_number)\n",
    "    print(str(next_page))\n",
    "    response = requests.get(str(next_page))\n",
    "    soup = BeautifulSoup(response.content,'html.parser')\n",
    "\n",
    "    jobs = soup.find_all('div', class_='base-card relative w-full hover:no-underline focus:no-underline base-card--link base-search-card base-search-card--link job-search-card')\n",
    "    for job in jobs:\n",
    "        job_title = job.find('h3', class_='base-search-card__title').text.strip()\n",
    "        job_company = job.find('h4', class_='base-search-card__subtitle').text.strip()\n",
    "        job_location = job.find('span', class_='job-search-card__location').text.strip()\n",
    "        job_link = job.find('a', class_='base-card__full-link')['href']\n",
    "\n",
    "        writer.writerow([\n",
    "            job_title.encode('utf-8'),\n",
    "            job_company.encode('utf-8'),\n",
    "            job_location.encode('utf-8'),\n",
    "            job_link.encode('utf-8')\n",
    "        ])\n",
    "\n",
    "    print('Data updated')\n",
    "\n",
    "    if page_number < 25:\n",
    "        page_number = page_number + 50\n",
    "        linkedin_scraper(webpage, page_number)\n",
    "    else:\n",
    "        file.close()\n",
    "        print('File closed')\n",
    "\n",
    "linkedin_scraper('https://www.linkedin.com/jobs-guest/jobs/api/seeMoreJobPostings/search?keywords=Product%20Management&location=San%20Francisco%20Bay%20Area&geoId=90000084&trk=public_jobs_jobs-search-bar_search-submit&position=1&pageNum=0&start=', 0)"
   ]
  },
  {
   "cell_type": "code",
   "execution_count": 2,
   "metadata": {},
   "outputs": [
    {
     "name": "stdout",
     "output_type": "stream",
     "text": [
      "                                      Title                        Company  \\\n",
      "0  b'Chief Product Officer (Founding Team)'                     b'CSV Now'   \n",
      "1         b'Director of Product Management'              b'RSA Conference'   \n",
      "2     b'Director/ VP of Product Management'               b'ZOLA Electric'   \n",
      "3            b'Product Management Graduate'  b'Hewlett Packard Enterprise'   \n",
      "4                 b'VP, Product Management'                    b'Deepcell'   \n",
      "\n",
      "               Location                                              Apply  \n",
      "0  b'San Francisco, CA'  b'https://www.linkedin.com/jobs/view/chief-pro...  \n",
      "1  b'San Francisco, CA'  b'https://www.linkedin.com/jobs/view/director-...  \n",
      "2  b'San Francisco, CA'  b'https://www.linkedin.com/jobs/view/director-...  \n",
      "3       b'San Jose, CA'  b'https://www.linkedin.com/jobs/view/product-m...  \n",
      "4     b'Menlo Park, CA'  b'https://www.linkedin.com/jobs/view/vp-produc...  \n"
     ]
    }
   ],
   "source": [
    "import pandas as pd\n",
    "\n",
    "# Read the CSV file\n",
    "df = pd.read_csv('linkedin-jobs.csv')\n",
    "\n",
    "# Display the dataframe\n",
    "print(df.head())"
   ]
  }
 ],
 "metadata": {
  "kernelspec": {
   "display_name": "Python 3",
   "language": "python",
   "name": "python3"
  },
  "language_info": {
   "codemirror_mode": {
    "name": "ipython",
    "version": 3
   },
   "file_extension": ".py",
   "mimetype": "text/x-python",
   "name": "python",
   "nbconvert_exporter": "python",
   "pygments_lexer": "ipython3",
   "version": "3.12.0"
  }
 },
 "nbformat": 4,
 "nbformat_minor": 2
}
